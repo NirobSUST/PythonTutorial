{
 "cells": [
  {
   "cell_type": "markdown",
   "id": "10ecb6ea",
   "metadata": {},
   "source": [
    "## Set\n",
    "* Sets are used to store multiple items in a single variable.\n",
    "\n",
    "* Set is one of 4 built-in data types in Python used to store collections of data, the other 3 are List, Tuple, and Dictionary, all with different qualities and usage.\n",
    "\n",
    "* A set is a collection which is unordered, unchangeable*, and unindexed.\n",
    "\n",
    "* Note: Set items are unchangeable, but you can remove items and add new items.\n",
    "\n",
    "* Sets are written with curly brackets."
   ]
  },
  {
   "cell_type": "code",
   "execution_count": 1,
   "id": "ab563164",
   "metadata": {},
   "outputs": [
    {
     "name": "stdout",
     "output_type": "stream",
     "text": [
      "{'apple', 'banana', 'cherry'}\n"
     ]
    }
   ],
   "source": [
    "thisset = {\"apple\", \"banana\", \"cherry\"}\n",
    "print(thisset) # Note: Sets are unordered, so you cannot be sure in which order the items will appear."
   ]
  },
  {
   "cell_type": "markdown",
   "id": "e4ade004",
   "metadata": {},
   "source": [
    "## Set Items\n",
    "* Set items are unordered, unchangeable, and do not allow duplicate values.\n",
    "\n",
    "## Unordered\n",
    "* Unordered means that the items in a set do not have a defined order.\n",
    "\n",
    "* Set items can appear in a different order every time you use them, and cannot be referred to by index or key.\n",
    "\n",
    "## Unchangeable\n",
    "* Set items are unchangeable, meaning that we cannot change the items after the set has been created.\n",
    "\n",
    "* Once a set is created, you cannot change its items, but you can remove items and add new items.\n",
    "\n",
    "## Duplicates Not Allowed\n",
    "* Sets cannot have two items with the same value."
   ]
  },
  {
   "cell_type": "code",
   "execution_count": 2,
   "id": "7594bdfe",
   "metadata": {},
   "outputs": [
    {
     "name": "stdout",
     "output_type": "stream",
     "text": [
      "{'apple', 'banana', 'cherry'}\n"
     ]
    }
   ],
   "source": [
    "thisset = {\"apple\", \"banana\", \"cherry\", \"apple\"}\n",
    "\n",
    "print(thisset)"
   ]
  },
  {
   "cell_type": "markdown",
   "id": "b8dca25e",
   "metadata": {},
   "source": [
    "## Get the Length of a Set\n",
    "* To determine how many items a set has, use the **len()** function."
   ]
  },
  {
   "cell_type": "code",
   "execution_count": 3,
   "id": "f7cee50e",
   "metadata": {},
   "outputs": [
    {
     "name": "stdout",
     "output_type": "stream",
     "text": [
      "3\n"
     ]
    }
   ],
   "source": [
    "thisset = {\"apple\", \"banana\", \"cherry\"}\n",
    "\n",
    "print(len(thisset))"
   ]
  },
  {
   "cell_type": "markdown",
   "id": "afae546d",
   "metadata": {},
   "source": [
    "## Set Items - Data Types\n",
    "* Set items can be of any data type:"
   ]
  },
  {
   "cell_type": "code",
   "execution_count": 4,
   "id": "c8926f9a",
   "metadata": {},
   "outputs": [],
   "source": [
    "set1 = {\"apple\", \"banana\", \"cherry\"}\n",
    "set2 = {1, 5, 7, 9, 3}\n",
    "set3 = {True, False, False}\n",
    "set4 = {\"abc\", 34, True, 40, \"male\"} # A set can contain different data types"
   ]
  },
  {
   "cell_type": "markdown",
   "id": "820ec31c",
   "metadata": {},
   "source": [
    "## type()\n",
    "* From Python's perspective, sets are defined as objects with the data type 'set':\n",
    "## <class 'set'>"
   ]
  },
  {
   "cell_type": "code",
   "execution_count": 5,
   "id": "b81392a4",
   "metadata": {},
   "outputs": [
    {
     "name": "stdout",
     "output_type": "stream",
     "text": [
      "<class 'set'>\n"
     ]
    }
   ],
   "source": [
    "myset = {\"apple\", \"banana\", \"cherry\"}\n",
    "print(type(myset))"
   ]
  },
  {
   "cell_type": "markdown",
   "id": "4000e1da",
   "metadata": {},
   "source": [
    "## The set() Constructor\n",
    "* It is also possible to use the set() constructor to make a set."
   ]
  },
  {
   "cell_type": "code",
   "execution_count": 6,
   "id": "c0c103b2",
   "metadata": {},
   "outputs": [
    {
     "name": "stdout",
     "output_type": "stream",
     "text": [
      "{'apple', 'banana', 'cherry'}\n"
     ]
    }
   ],
   "source": [
    "thisset = set((\"apple\", \"banana\", \"cherry\")) # note the double round-brackets\n",
    "print(thisset)"
   ]
  },
  {
   "cell_type": "markdown",
   "id": "982c0c47",
   "metadata": {},
   "source": [
    "## Access Items\n",
    "## You cannot access items in a set by referring to an index or a key.\n",
    "\n",
    "* But you can loop through the set items using a for loop, or ask if a specified value is present in a set, by using the in keyword."
   ]
  },
  {
   "cell_type": "code",
   "execution_count": 7,
   "id": "8f37697d",
   "metadata": {},
   "outputs": [
    {
     "name": "stdout",
     "output_type": "stream",
     "text": [
      "apple\n",
      "banana\n",
      "cherry\n"
     ]
    }
   ],
   "source": [
    "thisset = {\"apple\", \"banana\", \"cherry\"}\n",
    "\n",
    "for x in thisset:\n",
    "  print(x)"
   ]
  },
  {
   "cell_type": "code",
   "execution_count": 8,
   "id": "f4228d50",
   "metadata": {},
   "outputs": [
    {
     "name": "stdout",
     "output_type": "stream",
     "text": [
      "True\n",
      "False\n"
     ]
    }
   ],
   "source": [
    "thisset = {\"apple\", \"banana\", \"cherry\"}\n",
    "\n",
    "print(\"banana\" in thisset)\n",
    "\n",
    "print(\"Lemon\" in thisset)"
   ]
  },
  {
   "cell_type": "markdown",
   "id": "122f225e",
   "metadata": {},
   "source": [
    "## Change Items\n",
    "## Once a set is created, you cannot change its items, but you can add new items."
   ]
  },
  {
   "cell_type": "markdown",
   "id": "b857a401",
   "metadata": {},
   "source": [
    "## Add Items\n",
    "* Once a set is created, you cannot change its items, but you can add new items.\n",
    "\n",
    "* To add one item to a set use the **add()** method."
   ]
  },
  {
   "cell_type": "code",
   "execution_count": 9,
   "id": "a7639bc4",
   "metadata": {},
   "outputs": [
    {
     "name": "stdout",
     "output_type": "stream",
     "text": [
      "{'apple', 'orange', 'banana', 'cherry'}\n"
     ]
    }
   ],
   "source": [
    "thisset = {\"apple\", \"banana\", \"cherry\"}\n",
    "\n",
    "thisset.add(\"orange\")\n",
    "\n",
    "print(thisset)"
   ]
  },
  {
   "cell_type": "markdown",
   "id": "7a8b9c49",
   "metadata": {},
   "source": [
    "## Add Sets\n",
    "* To add items from another set into the current set, use the **update()** method."
   ]
  },
  {
   "cell_type": "code",
   "execution_count": 10,
   "id": "55512808",
   "metadata": {},
   "outputs": [
    {
     "name": "stdout",
     "output_type": "stream",
     "text": [
      "{'apple', 'papaya', 'banana', 'pineapple', 'mango', 'cherry'}\n"
     ]
    }
   ],
   "source": [
    "thisset = {\"apple\", \"banana\", \"cherry\"}\n",
    "tropical = {\"pineapple\", \"mango\", \"papaya\"}\n",
    "\n",
    "thisset.update(tropical)\n",
    "\n",
    "print(thisset)"
   ]
  },
  {
   "cell_type": "markdown",
   "id": "b4bb25ec",
   "metadata": {},
   "source": [
    "## Add Any Iterable\n",
    "* The object in the **update()** method **does not have** to be a set, it can be any iterable object (tuples, lists, dictionaries etc.)."
   ]
  },
  {
   "cell_type": "code",
   "execution_count": 11,
   "id": "dab3a5fc",
   "metadata": {},
   "outputs": [
    {
     "name": "stdout",
     "output_type": "stream",
     "text": [
      "{'apple', 'orange', 'banana', 'kiwi', 'cherry'}\n"
     ]
    }
   ],
   "source": [
    "thisset = {\"apple\", \"banana\", \"cherry\"}\n",
    "mylist = [\"kiwi\", \"orange\"]\n",
    "\n",
    "thisset.update(mylist)\n",
    "\n",
    "print(thisset)"
   ]
  },
  {
   "cell_type": "markdown",
   "id": "a98c13c6",
   "metadata": {},
   "source": [
    "## Remove Item\n",
    "* To remove an item in a set, use the **remove()**, or the **discard()** method."
   ]
  },
  {
   "cell_type": "code",
   "execution_count": 12,
   "id": "c4e10c44",
   "metadata": {},
   "outputs": [
    {
     "name": "stdout",
     "output_type": "stream",
     "text": [
      "{'apple', 'cherry'}\n",
      "{'cherry'}\n"
     ]
    }
   ],
   "source": [
    "thisset = {\"apple\", \"banana\", \"cherry\"}\n",
    "\n",
    "thisset.remove(\"banana\")\n",
    "\n",
    "print(thisset)\n",
    "\n",
    "thisset.discard(\"apple\")\n",
    "\n",
    "print(thisset)"
   ]
  },
  {
   "cell_type": "markdown",
   "id": "92e8b06f",
   "metadata": {},
   "source": [
    "* Note: If the item to remove does not exist, remove() **will raise** an error.\n",
    "* Note: If the item to remove does not exist, discard() will **NOT** raise an error."
   ]
  },
  {
   "cell_type": "markdown",
   "id": "ecf8bdc2",
   "metadata": {},
   "source": [
    "* You can also use the pop() method to remove an item, but this method will remove the last item. Remember that sets are unordered, so you will not know what item that gets removed.\n",
    "\n",
    "* The return value of the pop() method is the removed item."
   ]
  },
  {
   "cell_type": "code",
   "execution_count": 13,
   "id": "0d2d14c2",
   "metadata": {},
   "outputs": [
    {
     "name": "stdout",
     "output_type": "stream",
     "text": [
      "apple\n",
      "{'banana', 'cherry'}\n"
     ]
    }
   ],
   "source": [
    "thisset = {\"apple\", \"banana\", \"cherry\"}\n",
    "\n",
    "x = thisset.pop()\n",
    "\n",
    "print(x)\n",
    "\n",
    "print(thisset)"
   ]
  },
  {
   "cell_type": "markdown",
   "id": "807add20",
   "metadata": {},
   "source": [
    "**Note: Sets are unordered, so when using the pop() method, you do not know which item that gets removed.**"
   ]
  },
  {
   "cell_type": "markdown",
   "id": "870be7c0",
   "metadata": {},
   "source": [
    "* **The clear() method empties the set**\n",
    "* **The del keyword will delete the set completely:**"
   ]
  },
  {
   "cell_type": "code",
   "execution_count": 14,
   "id": "13f49415",
   "metadata": {},
   "outputs": [
    {
     "name": "stdout",
     "output_type": "stream",
     "text": [
      "set()\n"
     ]
    }
   ],
   "source": [
    "thisset = {\"apple\", \"banana\", \"cherry\"}\n",
    "\n",
    "thisset.clear()\n",
    "\n",
    "print(thisset)\n",
    "\n",
    "del thisset\n",
    "\n",
    "# print(thisset)"
   ]
  },
  {
   "cell_type": "markdown",
   "id": "40bcb187",
   "metadata": {},
   "source": [
    "## Loop Items\n",
    "* You can loop through the set items by using a for loop:"
   ]
  },
  {
   "cell_type": "code",
   "execution_count": 15,
   "id": "fe632ebd",
   "metadata": {},
   "outputs": [
    {
     "name": "stdout",
     "output_type": "stream",
     "text": [
      "apple\n",
      "banana\n",
      "cherry\n"
     ]
    }
   ],
   "source": [
    "thisset = {\"apple\", \"banana\", \"cherry\"}\n",
    "\n",
    "for x in thisset:\n",
    "  print(x)"
   ]
  },
  {
   "cell_type": "markdown",
   "id": "31353b7f",
   "metadata": {},
   "source": [
    "## Join Two Sets\n",
    "* There are several ways to join two or more sets in Python.\n",
    "\n",
    "* You can use the **union()** method that returns a new set containing all items from both sets, or the **update()** method that inserts all the items from one set into another:\n",
    "\n",
    "* Note: Both union() and update() will exclude **any duplicate items.**"
   ]
  },
  {
   "cell_type": "code",
   "execution_count": 19,
   "id": "e13fbcfb",
   "metadata": {},
   "outputs": [
    {
     "name": "stdout",
     "output_type": "stream",
     "text": [
      "{'c', 1, 2, 3, 'a', 'b'}\n"
     ]
    }
   ],
   "source": [
    "set1 = {\"a\", \"b\" , \"c\"}\n",
    "set2 = {1, 2, 3}\n",
    "\n",
    "set3 = set1.union(set2)\n",
    "print(set3)"
   ]
  },
  {
   "cell_type": "code",
   "execution_count": 20,
   "id": "0a83a9fa",
   "metadata": {},
   "outputs": [
    {
     "name": "stdout",
     "output_type": "stream",
     "text": [
      "{'c', 1, 2, 3, 'a', 'b'}\n"
     ]
    }
   ],
   "source": [
    "set1 = {\"a\", \"b\" , \"c\"}\n",
    "set2 = {1, 2, 3}\n",
    "\n",
    "set1.update(set2)\n",
    "print(set1)"
   ]
  },
  {
   "cell_type": "markdown",
   "id": "85feccc7",
   "metadata": {},
   "source": [
    "## Keep ONLY the Duplicates\n",
    "* The **intersection_update()** method will keep only the items that are present in both sets."
   ]
  },
  {
   "cell_type": "code",
   "execution_count": 21,
   "id": "0f76a1fe",
   "metadata": {},
   "outputs": [
    {
     "name": "stdout",
     "output_type": "stream",
     "text": [
      "{'apple'}\n"
     ]
    }
   ],
   "source": [
    "x = {\"apple\", \"banana\", \"cherry\"}\n",
    "y = {\"google\", \"microsoft\", \"apple\"}\n",
    "\n",
    "x.intersection_update(y)\n",
    "\n",
    "print(x)"
   ]
  },
  {
   "cell_type": "markdown",
   "id": "f47dae57",
   "metadata": {},
   "source": [
    "* The **intersection()** method will return a **new set**, that only contains the items that are present in both sets."
   ]
  },
  {
   "cell_type": "code",
   "execution_count": 22,
   "id": "261c59c1",
   "metadata": {},
   "outputs": [
    {
     "name": "stdout",
     "output_type": "stream",
     "text": [
      "{'apple'}\n"
     ]
    }
   ],
   "source": [
    "x = {\"apple\", \"banana\", \"cherry\"}\n",
    "y = {\"google\", \"microsoft\", \"apple\"}\n",
    "\n",
    "z = x.intersection(y)\n",
    "\n",
    "print(z)"
   ]
  },
  {
   "cell_type": "markdown",
   "id": "5044154a",
   "metadata": {},
   "source": [
    "## Keep All, But NOT the Duplicates\n",
    "* The symmetric_difference_update() method will keep only the elements that are NOT present in both sets."
   ]
  },
  {
   "cell_type": "code",
   "execution_count": 23,
   "id": "b2e766dc",
   "metadata": {},
   "outputs": [
    {
     "name": "stdout",
     "output_type": "stream",
     "text": [
      "{'banana', 'google', 'microsoft', 'cherry'}\n"
     ]
    }
   ],
   "source": [
    "x = {\"apple\", \"banana\", \"cherry\"}\n",
    "y = {\"google\", \"microsoft\", \"apple\"}\n",
    "\n",
    "x.symmetric_difference_update(y)\n",
    "\n",
    "print(x)"
   ]
  },
  {
   "cell_type": "markdown",
   "id": "4eda0e40",
   "metadata": {},
   "source": [
    "* The **symmetric_difference()** method will return a new set, that contains only the elements that are **NOT** present in both sets."
   ]
  },
  {
   "cell_type": "code",
   "execution_count": 24,
   "id": "6c355713",
   "metadata": {},
   "outputs": [
    {
     "name": "stdout",
     "output_type": "stream",
     "text": [
      "{'banana', 'google', 'microsoft', 'cherry'}\n"
     ]
    }
   ],
   "source": [
    "x = {\"apple\", \"banana\", \"cherry\"}\n",
    "y = {\"google\", \"microsoft\", \"apple\"}\n",
    "\n",
    "z = x.symmetric_difference(y)\n",
    "\n",
    "print(z)"
   ]
  },
  {
   "cell_type": "markdown",
   "id": "26308a7d",
   "metadata": {},
   "source": [
    "## Set Methods\n",
    "\n",
    "\n",
    "## Python has a set of built-in methods that you can use on sets.\n",
    "\n",
    "## Method => Description\n",
    "* add() => Adds an element to the set\n",
    "* clear() => Removes all the elements from the set\n",
    "* copy() => Returns a copy of the set\n",
    "* difference() => Returns a set containing the difference between two or more sets\n",
    "* difference_update() => Removes the items in this set that are also included in another, specified set\n",
    "* discard() => Remove the specified item\n",
    "* intersection() => Returns a set, that is the intersection of two other sets\n",
    "* intersection_update() => Removes the items in this set that are not present in other, specified set(s)\n",
    "* isdisjoint() => Returns whether two sets have a intersection or not\n",
    "* issubset() => Returns whether another set contains this set or not\n",
    "* issuperset() => Returns whether this set contains another set or not\n",
    "* pop() => Removes an element from the set\n",
    "* remove() => Removes the specified element\n",
    "* symmetric_difference() => Returns a set with the symmetric differences of two sets\n",
    "* symmetric_difference_update() => inserts the symmetric differences from this set and another\n",
    "* union() => Return a set containing the union of sets\n",
    "* update() => Update the set with the union of this set and others"
   ]
  }
 ],
 "metadata": {
  "kernelspec": {
   "display_name": "Python 3 (ipykernel)",
   "language": "python",
   "name": "python3"
  },
  "language_info": {
   "codemirror_mode": {
    "name": "ipython",
    "version": 3
   },
   "file_extension": ".py",
   "mimetype": "text/x-python",
   "name": "python",
   "nbconvert_exporter": "python",
   "pygments_lexer": "ipython3",
   "version": "3.10.7"
  }
 },
 "nbformat": 4,
 "nbformat_minor": 5
}
