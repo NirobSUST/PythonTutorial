{
 "cells": [
  {
   "cell_type": "markdown",
   "id": "2ab828a0",
   "metadata": {},
   "source": [
    "## Input Output\n",
    "\n",
    "**input ():** This function first takes the input from the user and converts it into a string. The type of the returned object always will be <type ‘str’>. It does not evaluate the expression it just returns the complete statement as String. For example, Python provides a built-in function called input which takes the input from the user. "
   ]
  },
  {
   "cell_type": "code",
   "execution_count": 183,
   "id": "4b07ae06",
   "metadata": {},
   "outputs": [
    {
     "name": "stdout",
     "output_type": "stream",
     "text": [
      "What is ur name? \n",
      "Nirob\n",
      "Hello Nirob\n"
     ]
    }
   ],
   "source": [
    "name = input(\"What is ur name? \\n\")\n",
    "print(\"Hello \"+ name)\n"
   ]
  },
  {
   "cell_type": "markdown",
   "id": "af60c19a",
   "metadata": {},
   "source": [
    "## Comment\n",
    "for single line ; #This is the comment\n",
    "\n",
    "for multiple line ; \"\"\" your code \"\"\""
   ]
  },
  {
   "cell_type": "code",
   "execution_count": 184,
   "id": "9f2ca9e5",
   "metadata": {},
   "outputs": [
    {
     "name": "stdout",
     "output_type": "stream",
     "text": [
      "Single line comment done!\n"
     ]
    }
   ],
   "source": [
    "# This is a single line comment\n",
    "\n",
    "print(\"Single line comment done!\")"
   ]
  },
  {
   "cell_type": "code",
   "execution_count": 185,
   "id": "8a66eefc",
   "metadata": {},
   "outputs": [
    {
     "name": "stdout",
     "output_type": "stream",
     "text": [
      "Multiple line comment done!\n"
     ]
    }
   ],
   "source": [
    "\"\"\"\n",
    "This is a comment\n",
    "written in\n",
    "more than just one line\n",
    "\"\"\"\n",
    "print(\"Multiple line comment done!\")"
   ]
  },
  {
   "cell_type": "markdown",
   "id": "a385a0a7",
   "metadata": {},
   "source": [
    "## Variables\n",
    "\n",
    "=> Variables are containers for storing data values.\n",
    "\n",
    "=> Python has no command for declaring a variable.\n",
    "\n",
    "=> A variable is created the moment you first assign a value to it.\n",
    "\n",
    "## Casting\n",
    "\n",
    "* If you want to specify the data type of a variable, this can be done with casting.\n"
   ]
  },
  {
   "cell_type": "code",
   "execution_count": 186,
   "id": "8d9be496",
   "metadata": {},
   "outputs": [
    {
     "name": "stdout",
     "output_type": "stream",
     "text": [
      "3\n",
      "3\n",
      "3.0\n"
     ]
    }
   ],
   "source": [
    "x = str(3)    # x will be '3'\n",
    "y = int(3)    # y will be 3\n",
    "z = float(3)  # z will be 3.0\n",
    "\n",
    "print(x)\n",
    "print(y)\n",
    "print(z)"
   ]
  },
  {
   "cell_type": "markdown",
   "id": "98e38b03",
   "metadata": {},
   "source": [
    "## Assigning value. No need to declear. All data will be save as \"String\"."
   ]
  },
  {
   "cell_type": "code",
   "execution_count": 187,
   "id": "15c3ea85",
   "metadata": {},
   "outputs": [],
   "source": [
    "myString = \"String\" # Stored as Str\n",
    "myInteger = 5   # Stored as int\n",
    "myFloat = 3.1415926 # Stored as float\n",
    "myBool = True # Stored as bool"
   ]
  },
  {
   "cell_type": "markdown",
   "id": "1694d523",
   "metadata": {},
   "source": [
    "## Test of a variable's type"
   ]
  },
  {
   "cell_type": "code",
   "execution_count": 188,
   "id": "ae9f8d67",
   "metadata": {},
   "outputs": [
    {
     "name": "stdout",
     "output_type": "stream",
     "text": [
      "<class 'float'>\n"
     ]
    }
   ],
   "source": [
    "print(type(myFloat))"
   ]
  },
  {
   "cell_type": "markdown",
   "id": "509a39cc",
   "metadata": {},
   "source": [
    "## Python always take input as form of \"String\""
   ]
  },
  {
   "cell_type": "markdown",
   "id": "2be3130a",
   "metadata": {},
   "source": [
    "## Variables Name\n",
    "\n",
    "1. A variable name must start with a letter or the underscore character\n",
    "\n",
    "2. A variable name cannot start with a number\n",
    "\n",
    "3. A variable name can only contain alpha-numeric characters and underscores (A-z, 0-9, and _ )\n",
    "\n",
    "4. Variable names are case-sensitive (age, Age and AGE are three different variables)\n",
    "\n",
    "## Naming Convension\n",
    "\n",
    "1. Camel Case --> Each word, except the first, starts with a capital letter\n",
    "\n",
    "2. Pascal Case --> Each word starts with a capital letter\n",
    "\n",
    "3. Snake Case -->  Each word is separated by an underscore character\n",
    "\n",
    "* myVariableName = \"John\" # Camel Case\n",
    "\n",
    "* MyVariableName = \"John\"  # Pascal Case\n",
    "\n",
    "* my_variable_name = \"John\" # Snake Case"
   ]
  },
  {
   "cell_type": "markdown",
   "id": "70974a57",
   "metadata": {},
   "source": [
    "## Unpack a Collection\n",
    "\n",
    "If you have a collection of values in a list, tuple etc. Python allows you to extract the values into variables. This is called unpacking."
   ]
  },
  {
   "cell_type": "code",
   "execution_count": 189,
   "id": "c65cbe1b",
   "metadata": {},
   "outputs": [
    {
     "name": "stdout",
     "output_type": "stream",
     "text": [
      "apple\n",
      "banana\n",
      "cherry\n"
     ]
    }
   ],
   "source": [
    "fruits = [\"apple\", \"banana\", \"cherry\"]\n",
    "x, y, z = fruits\n",
    "print(x)\n",
    "print(y)\n",
    "print(z)"
   ]
  },
  {
   "cell_type": "markdown",
   "id": "d5393595",
   "metadata": {},
   "source": [
    "## Global Variables\n",
    "\n",
    "Variables that are created outside of a function (as in all of the examples above) are known as global variables.\n",
    "\n",
    "* Global variables can be used by everyone, both inside of functions and outside.\n",
    "\n",
    "* If you create a variable with the same name inside a function, this variable will be local, and can only be used inside the function. The global variable with the same name will remain as it was, global and with the original value. "
   ]
  },
  {
   "cell_type": "code",
   "execution_count": 190,
   "id": "2a0ee2e5",
   "metadata": {},
   "outputs": [
    {
     "name": "stdout",
     "output_type": "stream",
     "text": [
      "( inside function ) You are Asthetic\n",
      "( outside of myfunc )You are Awesome\n"
     ]
    }
   ],
   "source": [
    "x = \"Awesome\"\n",
    "\n",
    "def myfunc():\n",
    "  x = \"Asthetic\"\n",
    "  print(\"( inside function ) You are \" + x)\n",
    "\n",
    "myfunc()\n",
    "\n",
    "print(\"( outside of myfunc )You are \" + x)"
   ]
  },
  {
   "cell_type": "markdown",
   "id": "26c90e80",
   "metadata": {},
   "source": [
    "## Data Type\n",
    "\n",
    "Python has the following data types built-in by default, in these categories:\n",
    "\n",
    "1. Text Type:\tstr\n",
    "2. Numeric Types:\tint, float, complex\n",
    "3. Sequence Types:\tlist, tuple, range\n",
    "4. Mapping Type:\tdict\n",
    "5. Set Types:\tset, frozenset\n",
    "6. Boolean Type:\tbool\n",
    "7. Binary Types:\tbytes, bytearray, memoryview\n",
    "8. None Type:\tNoneType"
   ]
  },
  {
   "cell_type": "markdown",
   "id": "2b1a08ca",
   "metadata": {},
   "source": [
    "## Complex Data type"
   ]
  },
  {
   "cell_type": "code",
   "execution_count": 191,
   "id": "de14a8ca",
   "metadata": {},
   "outputs": [
    {
     "name": "stdout",
     "output_type": "stream",
     "text": [
      "<class 'complex'>\n",
      "<class 'complex'>\n",
      "<class 'complex'>\n"
     ]
    }
   ],
   "source": [
    "x = 3+5j\n",
    "y = 5j\n",
    "z = -5j\n",
    "\n",
    "print(type(x))\n",
    "print(type(y))\n",
    "print(type(z))"
   ]
  },
  {
   "cell_type": "markdown",
   "id": "d174f8a7",
   "metadata": {},
   "source": [
    "## Random Number"
   ]
  },
  {
   "cell_type": "code",
   "execution_count": 192,
   "id": "0ca09518",
   "metadata": {},
   "outputs": [
    {
     "name": "stdout",
     "output_type": "stream",
     "text": [
      "2\n"
     ]
    }
   ],
   "source": [
    "import random\n",
    "\n",
    "print(random.randrange(1, 10))"
   ]
  },
  {
   "cell_type": "markdown",
   "id": "8e6d6afe",
   "metadata": {},
   "source": [
    "# Strings"
   ]
  },
  {
   "cell_type": "markdown",
   "id": "f3526057",
   "metadata": {},
   "source": [
    "## Multiline Strings"
   ]
  },
  {
   "cell_type": "code",
   "execution_count": 193,
   "id": "1b6ef30a",
   "metadata": {},
   "outputs": [
    {
     "name": "stdout",
     "output_type": "stream",
     "text": [
      "Lorem ipsum dolor sit amet,\n",
      "consectetur adipiscing elit,\n",
      "sed do eiusmod tempor incididunt\n",
      "ut labore et dolore magna aliqua.\n",
      "\n",
      "Lorem ipsum dolor sit amet,\n",
      "consectetur adipiscing elit,\n",
      "sed do eiusmod tempor incididunt\n",
      "ut labore et dolore magna aliqua.\n"
     ]
    }
   ],
   "source": [
    "# Using three quotes\n",
    "\n",
    "a = \"\"\"Lorem ipsum dolor sit amet,\n",
    "consectetur adipiscing elit,\n",
    "sed do eiusmod tempor incididunt\n",
    "ut labore et dolore magna aliqua.\\n\"\"\"\n",
    "print(a)\n",
    "\n",
    "#Using three single quotes\n",
    "\n",
    "b = '''Lorem ipsum dolor sit amet,\n",
    "consectetur adipiscing elit,\n",
    "sed do eiusmod tempor incididunt\n",
    "ut labore et dolore magna aliqua.'''\n",
    "print(b)"
   ]
  },
  {
   "cell_type": "markdown",
   "id": "d67bf126",
   "metadata": {},
   "source": [
    "## Indexing"
   ]
  },
  {
   "cell_type": "markdown",
   "id": "11c56054",
   "metadata": {},
   "source": [
    "## Print all the charecter in the string"
   ]
  },
  {
   "cell_type": "code",
   "execution_count": 194,
   "id": "f126038c",
   "metadata": {},
   "outputs": [
    {
     "name": "stdout",
     "output_type": "stream",
     "text": [
      "e\n"
     ]
    }
   ],
   "source": [
    "a = \"Hello, World!\"\n",
    "print(a[1]) #Remember the first character has the position 0)"
   ]
  },
  {
   "cell_type": "markdown",
   "id": "5a726827",
   "metadata": {},
   "source": [
    "## Looping through String"
   ]
  },
  {
   "cell_type": "code",
   "execution_count": 195,
   "id": "777ad251",
   "metadata": {},
   "outputs": [
    {
     "name": "stdout",
     "output_type": "stream",
     "text": [
      "H\n",
      "e\n",
      "l\n",
      "l\n",
      "o\n",
      ",\n",
      " \n",
      "W\n",
      "o\n",
      "r\n",
      "l\n",
      "d\n",
      "!\n"
     ]
    }
   ],
   "source": [
    "for x in a:\n",
    "  print(x)"
   ]
  },
  {
   "cell_type": "markdown",
   "id": "c49bc655",
   "metadata": {},
   "source": [
    "## String length"
   ]
  },
  {
   "cell_type": "code",
   "execution_count": 196,
   "id": "dff0052e",
   "metadata": {},
   "outputs": [
    {
     "name": "stdout",
     "output_type": "stream",
     "text": [
      "13\n"
     ]
    }
   ],
   "source": [
    "print(len(a))"
   ]
  },
  {
   "cell_type": "markdown",
   "id": "2b9b273b",
   "metadata": {},
   "source": [
    "## Sub-string checking using loop"
   ]
  },
  {
   "cell_type": "code",
   "execution_count": 197,
   "id": "9bae0c53",
   "metadata": {},
   "outputs": [
    {
     "name": "stdout",
     "output_type": "stream",
     "text": [
      "Yes, 'free' is present.\n"
     ]
    }
   ],
   "source": [
    "if \"free\" in txt:\n",
    "  print(\"Yes, 'free' is present.\")\n",
    "else:\n",
    "    print(\"No, 'free' is not present.\")"
   ]
  },
  {
   "cell_type": "markdown",
   "id": "f2075f50",
   "metadata": {},
   "source": [
    "## Slicing"
   ]
  },
  {
   "cell_type": "code",
   "execution_count": 198,
   "id": "4e11c695",
   "metadata": {},
   "outputs": [
    {
     "name": "stdout",
     "output_type": "stream",
     "text": [
      "llo\n"
     ]
    }
   ],
   "source": [
    "print(a[2:5])"
   ]
  },
  {
   "cell_type": "markdown",
   "id": "82797d1a",
   "metadata": {},
   "source": [
    "## Slice From the Start"
   ]
  },
  {
   "cell_type": "code",
   "execution_count": 199,
   "id": "481fd022",
   "metadata": {},
   "outputs": [
    {
     "name": "stdout",
     "output_type": "stream",
     "text": [
      "Hello\n"
     ]
    }
   ],
   "source": [
    "print(a[:5])"
   ]
  },
  {
   "cell_type": "markdown",
   "id": "40dd5f12",
   "metadata": {},
   "source": [
    "## Slice To the End"
   ]
  },
  {
   "cell_type": "code",
   "execution_count": 200,
   "id": "8476558d",
   "metadata": {},
   "outputs": [
    {
     "name": "stdout",
     "output_type": "stream",
     "text": [
      "llo, World!\n"
     ]
    }
   ],
   "source": [
    "print(a[2:])"
   ]
  },
  {
   "cell_type": "markdown",
   "id": "76b92603",
   "metadata": {},
   "source": [
    "## Negative Indexing\n",
    "* Second negative index exclusive"
   ]
  },
  {
   "cell_type": "code",
   "execution_count": 201,
   "id": "3dc90cbd",
   "metadata": {},
   "outputs": [
    {
     "name": "stdout",
     "output_type": "stream",
     "text": [
      "orl\n"
     ]
    }
   ],
   "source": [
    "print(a[-5:-2])"
   ]
  },
  {
   "cell_type": "markdown",
   "id": "d61fbcdd",
   "metadata": {},
   "source": [
    "## Upper Case"
   ]
  },
  {
   "cell_type": "code",
   "execution_count": 202,
   "id": "08a55942",
   "metadata": {},
   "outputs": [
    {
     "name": "stdout",
     "output_type": "stream",
     "text": [
      "HELLO, WORLD!\n"
     ]
    }
   ],
   "source": [
    "print(a.upper())"
   ]
  },
  {
   "cell_type": "markdown",
   "id": "9af99723",
   "metadata": {},
   "source": [
    "## Lower Case"
   ]
  },
  {
   "cell_type": "code",
   "execution_count": 203,
   "id": "24c3ec54",
   "metadata": {},
   "outputs": [
    {
     "name": "stdout",
     "output_type": "stream",
     "text": [
      "hello, world!\n"
     ]
    }
   ],
   "source": [
    "print(a.lower())"
   ]
  },
  {
   "cell_type": "markdown",
   "id": "94e0055e",
   "metadata": {},
   "source": [
    "## Remove Whitespace"
   ]
  },
  {
   "cell_type": "code",
   "execution_count": 204,
   "id": "87216771",
   "metadata": {},
   "outputs": [
    {
     "name": "stdout",
     "output_type": "stream",
     "text": [
      "Hello, World!\n"
     ]
    }
   ],
   "source": [
    "print(a.strip())"
   ]
  },
  {
   "cell_type": "markdown",
   "id": "ce5c964d",
   "metadata": {},
   "source": [
    "## Replace String"
   ]
  },
  {
   "cell_type": "code",
   "execution_count": 205,
   "id": "bce7b769",
   "metadata": {},
   "outputs": [
    {
     "name": "stdout",
     "output_type": "stream",
     "text": [
      "Jello, World!\n"
     ]
    }
   ],
   "source": [
    "print(a.replace(\"H\", \"J\"))"
   ]
  },
  {
   "cell_type": "markdown",
   "id": "7745c3e9",
   "metadata": {},
   "source": [
    "## Split String"
   ]
  },
  {
   "cell_type": "code",
   "execution_count": 206,
   "id": "17568100",
   "metadata": {},
   "outputs": [
    {
     "name": "stdout",
     "output_type": "stream",
     "text": [
      "['Hello', ' World!']\n"
     ]
    }
   ],
   "source": [
    "print(a.split(\",\")) # returns ['Hello', ' World!']"
   ]
  },
  {
   "cell_type": "markdown",
   "id": "f0593540",
   "metadata": {},
   "source": [
    "## String Concatenation"
   ]
  },
  {
   "cell_type": "code",
   "execution_count": 207,
   "id": "47400f36",
   "metadata": {},
   "outputs": [
    {
     "name": "stdout",
     "output_type": "stream",
     "text": [
      "Shahadat Nirob\n"
     ]
    }
   ],
   "source": [
    "firstName = \"Shahadat\"\n",
    "lastName = \"Nirob\"\n",
    "fullName = firstName +\" \"+ lastName\n",
    "print(fullName)"
   ]
  },
  {
   "cell_type": "markdown",
   "id": "5de4b512",
   "metadata": {},
   "source": [
    "# Boolean Values\n",
    "\n",
    "* You can evaluate any expression in Python, and get one of two answers, True or False\n",
    "\n",
    "* When you compare two values, the expression is evaluated and Python returns the Boolean answer\n",
    "\n",
    "* When you run a condition in an if statement, Python returns True or False\n",
    "\n",
    "* The bool() function allows you to evaluate any value, and give you True or False in return\n",
    "\n",
    "* One more value, or object in this case, evaluates to False, and that is if you have an object that is made from a class with a __len__ function that returns 0 or False\n",
    "\n",
    "* You can create functions that returns a Boolean Value"
   ]
  },
  {
   "cell_type": "markdown",
   "id": "ae782439",
   "metadata": {},
   "source": [
    "## Bool Check"
   ]
  },
  {
   "cell_type": "code",
   "execution_count": 208,
   "id": "3eda2b72",
   "metadata": {},
   "outputs": [
    {
     "name": "stdout",
     "output_type": "stream",
     "text": [
      "True\n",
      "False\n",
      "False\n"
     ]
    }
   ],
   "source": [
    "print(10 > 9)\n",
    "print(10 == 9)\n",
    "print(10 < 9)"
   ]
  },
  {
   "cell_type": "markdown",
   "id": "0a9b7409",
   "metadata": {},
   "source": [
    "## Evaluate Values and Variables\n",
    "The bool() function allows you to evaluate any value, and give you True or False in return"
   ]
  },
  {
   "cell_type": "code",
   "execution_count": 209,
   "id": "1fcb3a80",
   "metadata": {},
   "outputs": [
    {
     "name": "stdout",
     "output_type": "stream",
     "text": [
      "True\n",
      "True\n"
     ]
    }
   ],
   "source": [
    "print(bool(\"Hello\"))\n",
    "print(bool(15))"
   ]
  },
  {
   "cell_type": "markdown",
   "id": "94f5700d",
   "metadata": {},
   "source": [
    "# Most Values are True\n",
    "\n",
    "* Almost any value is evaluated to True if it has some sort of content.\n",
    "\n",
    "* Any string is True, except empty strings.\n",
    "\n",
    "* Any number is True, except 0.\n",
    "\n",
    "* Any list, tuple, set, and dictionary are True, except empty ones.\n",
    "\n",
    "# Some Values are False\n",
    "\n",
    "* In fact, there are not many values that evaluate to False, except empty values, such as (), [], {}, \"\", the number 0, and the value None. And of course the value False evaluates to False."
   ]
  },
  {
   "cell_type": "code",
   "execution_count": 243,
   "id": "5ed96133",
   "metadata": {},
   "outputs": [
    {
     "name": "stdout",
     "output_type": "stream",
     "text": [
      "True\n",
      "True\n",
      "True\n",
      "\n",
      "\n",
      "False\n",
      "False\n",
      "False\n",
      "False\n",
      "False\n",
      "False\n",
      "False\n"
     ]
    }
   ],
   "source": [
    "# True Items\n",
    "\n",
    "print(bool(\"abc\"))\n",
    "print(bool(123))\n",
    "print(bool([\"apple\", \"cherry\", \"banana\"]))\n",
    "\n",
    "print(\"\\n\")\n",
    "# False Items\n",
    "\n",
    "print(bool(False))\n",
    "print(bool(None))\n",
    "print(bool(0))\n",
    "print(bool(\"\"))\n",
    "print(bool(()))\n",
    "print(bool([]))\n",
    "print(bool({}))"
   ]
  },
  {
   "cell_type": "markdown",
   "id": "3f6951d2",
   "metadata": {},
   "source": [
    "## One more value, or object in this case, evaluates to False, and that is if you have an object that is made from a class with a **__len__** function that returns 0 or False:\n"
   ]
  },
  {
   "cell_type": "code",
   "execution_count": 211,
   "id": "32e893fc",
   "metadata": {},
   "outputs": [
    {
     "name": "stdout",
     "output_type": "stream",
     "text": [
      "False\n"
     ]
    }
   ],
   "source": [
    "class myclass():\n",
    "  def __len__(self):\n",
    "    return 0\n",
    "\n",
    "myobj = myclass()\n",
    "print(bool(myobj))"
   ]
  },
  {
   "cell_type": "markdown",
   "id": "03abd816",
   "metadata": {},
   "source": [
    "## Functions can Return a Boolean"
   ]
  },
  {
   "cell_type": "code",
   "execution_count": 212,
   "id": "9c57327a",
   "metadata": {},
   "outputs": [
    {
     "name": "stdout",
     "output_type": "stream",
     "text": [
      "True\n"
     ]
    }
   ],
   "source": [
    "def myFunction() :\n",
    "  return True\n",
    "\n",
    "print(myFunction())"
   ]
  },
  {
   "cell_type": "markdown",
   "id": "8205037b",
   "metadata": {},
   "source": [
    "## Python divides the operators in the following groups:\n",
    "\n",
    "* Arithmetic operators\n",
    "* Assignment operators\n",
    "* Comparison operators\n",
    "* Logical operators\n",
    "* Identity operators\n",
    "* Membership operators\n",
    "* Bitwise operators"
   ]
  },
  {
   "cell_type": "markdown",
   "id": "8421424f",
   "metadata": {},
   "source": [
    "# Conditional Logic"
   ]
  },
  {
   "cell_type": "markdown",
   "id": "20a3ec68",
   "metadata": {},
   "source": [
    "## Short Hand If ... Else\n",
    "* This technique is known as Ternary Operators, or Conditional Expressions."
   ]
  },
  {
   "cell_type": "code",
   "execution_count": 213,
   "id": "23f1dd09",
   "metadata": {},
   "outputs": [
    {
     "name": "stdout",
     "output_type": "stream",
     "text": [
      "B\n"
     ]
    }
   ],
   "source": [
    "a = 2\n",
    "b = 330\n",
    "print(\"A\") if a > b else print(\"B\")"
   ]
  },
  {
   "cell_type": "markdown",
   "id": "cf9a201a",
   "metadata": {},
   "source": [
    "## And"
   ]
  },
  {
   "cell_type": "code",
   "execution_count": 214,
   "id": "b673857f",
   "metadata": {},
   "outputs": [
    {
     "name": "stdout",
     "output_type": "stream",
     "text": [
      "Both conditions are True\n"
     ]
    }
   ],
   "source": [
    "a = 200\n",
    "b = 33\n",
    "c = 500\n",
    "if a > b and c > a:\n",
    "  print(\"Both conditions are True\")"
   ]
  },
  {
   "cell_type": "markdown",
   "id": "8f0ac741",
   "metadata": {},
   "source": [
    "## Or"
   ]
  },
  {
   "cell_type": "code",
   "execution_count": 215,
   "id": "59098e6a",
   "metadata": {},
   "outputs": [
    {
     "name": "stdout",
     "output_type": "stream",
     "text": [
      "At least one of the conditions is True\n"
     ]
    }
   ],
   "source": [
    "a = 200\n",
    "b = 33\n",
    "c = 500\n",
    "if a > b or a > c:\n",
    "  print(\"At least one of the conditions is True\")"
   ]
  },
  {
   "cell_type": "markdown",
   "id": "181f543a",
   "metadata": {},
   "source": [
    "## The pass Statement"
   ]
  },
  {
   "cell_type": "code",
   "execution_count": 216,
   "id": "fd24c71b",
   "metadata": {},
   "outputs": [],
   "source": [
    "a = 33\n",
    "b = 200\n",
    "\n",
    "if b > a:\n",
    "  pass"
   ]
  },
  {
   "cell_type": "markdown",
   "id": "d6de95c7",
   "metadata": {},
   "source": [
    "# Loops\n",
    "## While Loop\n",
    "* With the while loop we can execute a set of statements as long as a condition is true.\n",
    "* Note: remember to increment i, or else the loop will continue forever known as \"Infinite Loop\""
   ]
  },
  {
   "cell_type": "markdown",
   "id": "aa8c8209",
   "metadata": {},
   "source": [
    "## Break\n",
    "* With the break statement we can stop the loop even if the while condition is true"
   ]
  },
  {
   "cell_type": "code",
   "execution_count": 217,
   "id": "44fa2d76",
   "metadata": {},
   "outputs": [
    {
     "name": "stdout",
     "output_type": "stream",
     "text": [
      "1\n",
      "2\n",
      "3\n"
     ]
    }
   ],
   "source": [
    "i = 1\n",
    "while i < 6:\n",
    "  print(i)\n",
    "  if i == 3:\n",
    "    break\n",
    "  i += 1"
   ]
  },
  {
   "cell_type": "markdown",
   "id": "b24344b2",
   "metadata": {},
   "source": [
    "## The continue Statement"
   ]
  },
  {
   "cell_type": "code",
   "execution_count": 218,
   "id": "294d84a6",
   "metadata": {},
   "outputs": [
    {
     "name": "stdout",
     "output_type": "stream",
     "text": [
      "1\n",
      "2\n",
      "4\n",
      "5\n",
      "6\n"
     ]
    }
   ],
   "source": [
    "i = 0\n",
    "while i < 6:\n",
    "  i += 1\n",
    "  if i == 3:\n",
    "    continue\n",
    "  print(i)"
   ]
  },
  {
   "cell_type": "markdown",
   "id": "24527dd2",
   "metadata": {},
   "source": [
    "## The else Statement"
   ]
  },
  {
   "cell_type": "code",
   "execution_count": 219,
   "id": "c818630c",
   "metadata": {},
   "outputs": [
    {
     "name": "stdout",
     "output_type": "stream",
     "text": [
      "1\n",
      "2\n",
      "3\n",
      "4\n",
      "5\n",
      "\n",
      "i is no longer less than 6\n"
     ]
    }
   ],
   "source": [
    "i = 1\n",
    "while i < 6:\n",
    "  print(i)\n",
    "  i += 1\n",
    "else:\n",
    "  print(\"\\ni is no longer less than 6\")"
   ]
  },
  {
   "cell_type": "code",
   "execution_count": null,
   "id": "04003ce5",
   "metadata": {},
   "outputs": [],
   "source": []
  },
  {
   "cell_type": "markdown",
   "id": "6c90d101",
   "metadata": {},
   "source": [
    "## For Loops\n",
    "* A for loop is used for iterating over a sequence (that is either a list, a tuple, a dictionary, a set, or a string).\n",
    "\n",
    "* This is less like the for keyword in other programming languages, and works more like an iterator method as found in other object-orientated programming languages.\n",
    "\n",
    "* With the for loop we can execute a set of statements, once for each item in a list, tuple, set etc.\n"
   ]
  },
  {
   "cell_type": "code",
   "execution_count": 220,
   "id": "8c11d981",
   "metadata": {},
   "outputs": [
    {
     "name": "stdout",
     "output_type": "stream",
     "text": [
      "apple\n",
      "banana\n",
      "cherry\n"
     ]
    }
   ],
   "source": [
    "fruits = [\"apple\", \"banana\", \"cherry\"]\n",
    "for x in fruits:\n",
    "  print(x)"
   ]
  },
  {
   "cell_type": "markdown",
   "id": "c957eba2",
   "metadata": {},
   "source": [
    "## Looping Through a String"
   ]
  },
  {
   "cell_type": "code",
   "execution_count": 221,
   "id": "8e111a89",
   "metadata": {},
   "outputs": [
    {
     "name": "stdout",
     "output_type": "stream",
     "text": [
      "b\n",
      "a\n",
      "n\n",
      "a\n",
      "n\n",
      "a\n"
     ]
    }
   ],
   "source": [
    "for x in \"banana\":\n",
    "  print(x)"
   ]
  },
  {
   "cell_type": "markdown",
   "id": "7b4ebe79",
   "metadata": {},
   "source": [
    "## The range() Function\n",
    "* To loop through a set of code a specified number of times, we can use the **range()** function,\n",
    "* The **range()** function returns a sequence of numbers, starting from **0** by default, and increments by **1** (by default), and ends at a **specified number**"
   ]
  },
  {
   "cell_type": "code",
   "execution_count": 222,
   "id": "f8f83831",
   "metadata": {},
   "outputs": [
    {
     "name": "stdout",
     "output_type": "stream",
     "text": [
      "0\n",
      "1\n",
      "2\n",
      "3\n",
      "4\n",
      "5\n"
     ]
    }
   ],
   "source": [
    "for x in range(6):\n",
    "  print(x)"
   ]
  },
  {
   "cell_type": "markdown",
   "id": "7f162722",
   "metadata": {},
   "source": [
    "* Note that range(6) is not the values of 0 to 6, but the values 0 to 5.\n",
    "\n",
    "* The range() function defaults to increment the sequence by 1, however it is possible to specify the increment value by adding a third parameter: range(2, 30, 3):"
   ]
  },
  {
   "cell_type": "code",
   "execution_count": 223,
   "id": "3e118afc",
   "metadata": {},
   "outputs": [
    {
     "name": "stdout",
     "output_type": "stream",
     "text": [
      "2\n",
      "5\n",
      "8\n",
      "11\n",
      "14\n",
      "17\n",
      "20\n",
      "23\n",
      "26\n",
      "29\n"
     ]
    }
   ],
   "source": [
    "for x in range(2, 30, 3):\n",
    "  print(x)"
   ]
  },
  {
   "cell_type": "markdown",
   "id": "872c5635",
   "metadata": {},
   "source": [
    "# Nested Loops\n",
    "\n",
    "* A nested loop is a loop inside a loop.\n",
    "* The \"inner loop\" will be executed one time for each iteration of the \"outer loop\":"
   ]
  },
  {
   "cell_type": "code",
   "execution_count": 224,
   "id": "f4eed89a",
   "metadata": {},
   "outputs": [
    {
     "name": "stdout",
     "output_type": "stream",
     "text": [
      "red apple\n",
      "red banana\n",
      "red cherry\n",
      "big apple\n",
      "big banana\n",
      "big cherry\n",
      "tasty apple\n",
      "tasty banana\n",
      "tasty cherry\n"
     ]
    }
   ],
   "source": [
    "adj = [\"red\", \"big\", \"tasty\"]\n",
    "fruits = [\"apple\", \"banana\", \"cherry\"]\n",
    "\n",
    "for x in adj:\n",
    "  for y in fruits:\n",
    "    print(x, y)"
   ]
  },
  {
   "cell_type": "markdown",
   "id": "661286ec",
   "metadata": {},
   "source": [
    "# Functions\n",
    "* A function is a block of code which only runs when it is called.\n",
    "\n",
    "* You can pass data, known as parameters, into a function.\n",
    "\n",
    "* A function can return data as a result."
   ]
  },
  {
   "cell_type": "markdown",
   "id": "9bb33f35",
   "metadata": {},
   "source": [
    "## Creating a Function\n",
    "* In Python a function is defined using the **def** keyword:"
   ]
  },
  {
   "cell_type": "code",
   "execution_count": 225,
   "id": "5272ad67",
   "metadata": {},
   "outputs": [],
   "source": [
    "def my_function():\n",
    "  print(\"Hello from a function\") # No one calls. So no output at all"
   ]
  },
  {
   "cell_type": "markdown",
   "id": "8951abda",
   "metadata": {},
   "source": [
    "## Calling a Function\n",
    "* To call a function, use the function name followed by parenthesis:"
   ]
  },
  {
   "cell_type": "code",
   "execution_count": 226,
   "id": "5fddfdd6",
   "metadata": {},
   "outputs": [
    {
     "name": "stdout",
     "output_type": "stream",
     "text": [
      "Hello from a function\n"
     ]
    }
   ],
   "source": [
    "def my_function():\n",
    "  print(\"Hello from a function\")\n",
    "\n",
    "my_function()"
   ]
  },
  {
   "cell_type": "markdown",
   "id": "5ac91620",
   "metadata": {},
   "source": [
    "## Arguments\n",
    "* Information can be passed into functions as arguments."
   ]
  },
  {
   "cell_type": "markdown",
   "id": "2b698291",
   "metadata": {},
   "source": [
    "* Arguments are specified after the function name, inside the parentheses.\n",
    "* You can add as many arguments as you want, just separate them with a comma.\n",
    "\n",
    "* The following example has a function with one argument (fname). When the function is called,\n",
    "* we pass along a first name, which is used inside the function to print the full name:"
   ]
  },
  {
   "cell_type": "code",
   "execution_count": 227,
   "id": "92f6ebda",
   "metadata": {},
   "outputs": [
    {
     "name": "stdout",
     "output_type": "stream",
     "text": [
      "Emil Refsnes\n",
      "Tobias Refsnes\n",
      "Linus Refsnes\n"
     ]
    }
   ],
   "source": [
    "def my_function(fname):\n",
    "  print(fname + \" Refsnes\")\n",
    "\n",
    "my_function(\"Emil\")\n",
    "my_function(\"Tobias\")\n",
    "my_function(\"Linus\")"
   ]
  },
  {
   "cell_type": "markdown",
   "id": "5e053c70",
   "metadata": {},
   "source": [
    "## From a function's perspective:\n",
    "* A parameter is the variable listed inside the parentheses in the function definition.\n",
    "* An argument is the value that is sent to the function when it is called.\n",
    "\n",
    "\n",
    "## Number of Arguments\n",
    "* By default, a function must be called with the correct number of arguments. Meaning that if your function expects 2 arguments, you have to call the function with 2 arguments, not more, and not less."
   ]
  },
  {
   "cell_type": "code",
   "execution_count": 228,
   "id": "94bca09e",
   "metadata": {},
   "outputs": [
    {
     "name": "stdout",
     "output_type": "stream",
     "text": [
      "Emil Refsnes\n"
     ]
    }
   ],
   "source": [
    "def my_function(fname, lname):\n",
    "  print(fname + \" \" + lname)\n",
    "\n",
    "my_function(\"Emil\", \"Refsnes\")"
   ]
  },
  {
   "cell_type": "markdown",
   "id": "8e4889a7",
   "metadata": {},
   "source": [
    "## Keyword Arguments\n",
    "* You can also send arguments with the **key = value** syntax.\n",
    "* This way the order of the arguments does not matter."
   ]
  },
  {
   "cell_type": "code",
   "execution_count": 229,
   "id": "6dd9f565",
   "metadata": {},
   "outputs": [
    {
     "name": "stdout",
     "output_type": "stream",
     "text": [
      "The youngest child is Linus\n"
     ]
    }
   ],
   "source": [
    "def my_function(child3, child2, child1):\n",
    "  print(\"The youngest child is \" + child3)\n",
    "\n",
    "my_function(child1 = \"Emil\", child2 = \"Tobias\", child3 = \"Linus\")"
   ]
  },
  {
   "cell_type": "markdown",
   "id": "b46626f4",
   "metadata": {},
   "source": [
    "## Passing a List as an Argument\n",
    "* You can send any data types of argument to a function (string, number, list, dictionary etc.), and it will be treated as the same data type inside the function.\n",
    "* E.g. if you send a List as an argument, it will still be a List when it reaches the function:"
   ]
  },
  {
   "cell_type": "code",
   "execution_count": 230,
   "id": "eaceedc1",
   "metadata": {},
   "outputs": [
    {
     "name": "stdout",
     "output_type": "stream",
     "text": [
      "apple\n",
      "banana\n",
      "cherry\n"
     ]
    }
   ],
   "source": [
    "def my_function(food):\n",
    "  for x in food:\n",
    "    print(x)\n",
    "\n",
    "fruits = [\"apple\", \"banana\", \"cherry\"]\n",
    "\n",
    "my_function(fruits)"
   ]
  },
  {
   "cell_type": "markdown",
   "id": "41bc3bc6",
   "metadata": {},
   "source": [
    "## Return Values\n",
    "* To let a function return a value, use the return statement:"
   ]
  },
  {
   "cell_type": "code",
   "execution_count": 231,
   "id": "83b902df",
   "metadata": {},
   "outputs": [
    {
     "name": "stdout",
     "output_type": "stream",
     "text": [
      "15\n",
      "25\n",
      "45\n"
     ]
    }
   ],
   "source": [
    "def my_function(x):\n",
    "  return 5 * x\n",
    "\n",
    "print(my_function(3))\n",
    "print(my_function(5))\n",
    "print(my_function(9))"
   ]
  },
  {
   "cell_type": "markdown",
   "id": "8e7a4496",
   "metadata": {},
   "source": [
    "## The pass Statement\n",
    "* function definitions cannot be empty, but if you for some reason have a function definition with no content, put in the pass statement to avoid getting an error."
   ]
  },
  {
   "cell_type": "code",
   "execution_count": 232,
   "id": "110cb8ba",
   "metadata": {},
   "outputs": [],
   "source": [
    "def myfunction():\n",
    "  pass"
   ]
  },
  {
   "cell_type": "markdown",
   "id": "5bd5a14a",
   "metadata": {},
   "source": [
    "## Recursion\n",
    "* Python also accepts function recursion, which means a defined function can call itself.\n",
    "\n",
    "* Recursion is a common mathematical and programming concept. It means that a function calls itself. This has the benefit of meaning that you can loop through data to reach a result.\n",
    "\n",
    "* The developer should be very careful with recursion as it can be quite easy to slip into writing a function which never terminates, or one that uses excess amounts of memory or processor power. However, when written correctly recursion can be a very efficient and mathematically-elegant approach to programming.\n",
    "\n",
    "* In this example, tri_recursion() is a function that we have defined to call itself (\"recurse\"). We use the k variable as the data, which decrements (-1) every time we recurse. The recursion ends when the condition is not greater than 0 (i.e. when it is 0).\n",
    "\n",
    "* To a new developer it can take some time to work out how exactly this works, best way to find out is by testing and modifying it."
   ]
  },
  {
   "cell_type": "code",
   "execution_count": 233,
   "id": "0e1f26e4",
   "metadata": {},
   "outputs": [
    {
     "name": "stdout",
     "output_type": "stream",
     "text": [
      "\n",
      "\n",
      "Recursion Example Results\n",
      "1\n",
      "3\n",
      "6\n",
      "10\n",
      "15\n",
      "21\n"
     ]
    },
    {
     "data": {
      "text/plain": [
       "21"
      ]
     },
     "execution_count": 233,
     "metadata": {},
     "output_type": "execute_result"
    }
   ],
   "source": [
    "def tri_recursion(k):\n",
    "  if(k > 0):\n",
    "    result = k + tri_recursion(k - 1)\n",
    "    print(result)\n",
    "  else:\n",
    "    result = 0\n",
    "  return result\n",
    "\n",
    "print(\"\\n\\nRecursion Example Results\")\n",
    "tri_recursion(6)"
   ]
  },
  {
   "cell_type": "markdown",
   "id": "34eb8c2b",
   "metadata": {},
   "source": [
    "# Lambda\n",
    "* A lambda function is a small anonymous function.\n",
    "* A lambda function can take any number of arguments, but can only have one expression.\n",
    "* Syntax => lambda arguments : expression"
   ]
  },
  {
   "cell_type": "code",
   "execution_count": 234,
   "id": "6dae8781",
   "metadata": {},
   "outputs": [
    {
     "name": "stdout",
     "output_type": "stream",
     "text": [
      "15\n"
     ]
    }
   ],
   "source": [
    "x = lambda a : a + 10\n",
    "print(x(5))"
   ]
  },
  {
   "cell_type": "markdown",
   "id": "103ba1b3",
   "metadata": {},
   "source": [
    "## Lambda functions can take any number of arguments:"
   ]
  },
  {
   "cell_type": "code",
   "execution_count": 235,
   "id": "affa9e69",
   "metadata": {},
   "outputs": [
    {
     "name": "stdout",
     "output_type": "stream",
     "text": [
      "30\n"
     ]
    }
   ],
   "source": [
    "x = lambda a, b : a * b\n",
    "print(x(5, 6))"
   ]
  },
  {
   "cell_type": "code",
   "execution_count": 236,
   "id": "22397b60",
   "metadata": {},
   "outputs": [
    {
     "name": "stdout",
     "output_type": "stream",
     "text": [
      "13\n"
     ]
    }
   ],
   "source": [
    "x = lambda a, b, c : a + b + c\n",
    "print(x(5, 6, 2))\n"
   ]
  },
  {
   "cell_type": "markdown",
   "id": "9e88d7ab",
   "metadata": {},
   "source": [
    "## Why Use Lambda Functions?\n",
    "* The power of lambda is better shown when you use them as an anonymous function inside another function.\n",
    "\n",
    "* Say you have a function definition that takes one argument, and that argument will be multiplied with an unknown number:"
   ]
  },
  {
   "cell_type": "code",
   "execution_count": 237,
   "id": "defbb42a",
   "metadata": {},
   "outputs": [],
   "source": [
    "def myfunc(n):\n",
    "  return lambda a : a * n"
   ]
  },
  {
   "cell_type": "markdown",
   "id": "ef1118ef",
   "metadata": {},
   "source": [
    "* use that function definition to make a function that always triples the number you send in:"
   ]
  },
  {
   "cell_type": "code",
   "execution_count": 238,
   "id": "cf63bc0d",
   "metadata": {},
   "outputs": [
    {
     "name": "stdout",
     "output_type": "stream",
     "text": [
      "22\n"
     ]
    }
   ],
   "source": [
    "def myfunc(n):\n",
    "  return lambda a : a * n\n",
    "\n",
    "mytripler = myfunc(2)\n",
    "\n",
    "print(mytripler(11))"
   ]
  },
  {
   "cell_type": "markdown",
   "id": "14bcdfee",
   "metadata": {},
   "source": [
    "* Or, use the same function definition to make a function that always triples the number you send in:"
   ]
  },
  {
   "cell_type": "code",
   "execution_count": 239,
   "id": "1054c4a2",
   "metadata": {},
   "outputs": [
    {
     "name": "stdout",
     "output_type": "stream",
     "text": [
      "33\n"
     ]
    }
   ],
   "source": [
    "def myfunc(n):\n",
    "  return lambda a : a * n\n",
    "\n",
    "mytripler = myfunc(3)\n",
    "\n",
    "print(mytripler(11))"
   ]
  },
  {
   "cell_type": "markdown",
   "id": "ed1f1c0e",
   "metadata": {},
   "source": [
    "## use the same function definition to make both functions, in the same program:"
   ]
  },
  {
   "cell_type": "code",
   "execution_count": 240,
   "id": "81da7e81",
   "metadata": {},
   "outputs": [
    {
     "name": "stdout",
     "output_type": "stream",
     "text": [
      "22\n",
      "33\n"
     ]
    }
   ],
   "source": [
    "def myfunc(n):\n",
    "  return lambda a : a * n\n",
    "\n",
    "mydoubler = myfunc(2)\n",
    "mytripler = myfunc(3)\n",
    "\n",
    "print(mydoubler(11))\n",
    "print(mytripler(11))"
   ]
  }
 ],
 "metadata": {
  "kernelspec": {
   "display_name": "Python 3 (ipykernel)",
   "language": "python",
   "name": "python3"
  },
  "language_info": {
   "codemirror_mode": {
    "name": "ipython",
    "version": 3
   },
   "file_extension": ".py",
   "mimetype": "text/x-python",
   "name": "python",
   "nbconvert_exporter": "python",
   "pygments_lexer": "ipython3",
   "version": "3.10.7"
  }
 },
 "nbformat": 4,
 "nbformat_minor": 5
}
